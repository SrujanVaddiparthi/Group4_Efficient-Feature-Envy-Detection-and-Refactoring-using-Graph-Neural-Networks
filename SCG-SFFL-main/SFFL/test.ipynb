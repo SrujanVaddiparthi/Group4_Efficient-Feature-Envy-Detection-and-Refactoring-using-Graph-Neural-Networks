{
 "cells": [
  {
   "cell_type": "code",
   "execution_count": 1,
   "metadata": {},
   "outputs": [
    {
     "name": "stdout",
     "output_type": "stream",
     "text": [
      "原始indices:\n",
      "tensor([[0, 1, 2],\n",
      "        [2, 0, 1]])\n",
      "修改后的indices:\n",
      "tensor([[2, 0, 1],\n",
      "        [0, 1, 2]])\n"
     ]
    },
    {
     "name": "stderr",
     "output_type": "stream",
     "text": [
      "/home/xyh/miniconda3/envs/cv/lib/python3.6/site-packages/tqdm/auto.py:22: TqdmWarning: IProgress not found. Please update jupyter and ipywidgets. See https://ipywidgets.readthedocs.io/en/stable/user_install.html\n",
      "  from .autonotebook import tqdm as notebook_tqdm\n"
     ]
    }
   ],
   "source": [
    "# 原地修改sparse_tensor的indices\n",
    "import torch\n",
    "\n",
    "# 创建一个稀疏张量\n",
    "values = torch.tensor([1, 2, 3])\n",
    "indices = torch.tensor([[0, 1, 2],\n",
    "                        [2, 0, 1]], dtype=torch.long)\n",
    "shape = torch.Size([3, 3])\n",
    "sparse_tensor = torch.sparse_coo_tensor(indices, values, shape)\n",
    "sparse_tensor = sparse_tensor.coalesce()\n",
    "# 输出原始indices\n",
    "print(\"原始indices:\")\n",
    "print(sparse_tensor.indices())\n",
    "\n",
    "# 直接修改indices的值\n",
    "sparse_tensor.indices().copy_(sparse_tensor.indices().flip(0))\n",
    "\n",
    "# 输出修改后的indices\n",
    "print(\"修改后的indices:\")\n",
    "print(sparse_tensor.indices())"
   ]
  },
  {
   "cell_type": "code",
   "execution_count": 13,
   "metadata": {},
   "outputs": [
    {
     "name": "stdout",
     "output_type": "stream",
     "text": [
      "tensor([[0.3868, 0.0000, 0.9923,  ..., 0.3965, 0.7199, 0.8009],\n",
      "        [0.0000, 0.2391, 0.0000,  ..., 0.9965, 0.0000, 0.0000],\n",
      "        [0.8075, 0.1993, 0.0000,  ..., 0.9350, 0.1253, 0.9919],\n",
      "        ...,\n",
      "        [0.5672, 0.0000, 0.7320,  ..., 0.3919, 0.5945, 0.0294],\n",
      "        [0.2481, 0.3313, 0.1918,  ..., 0.0000, 0.0000, 0.2333],\n",
      "        [0.0114, 0.2290, 0.3581,  ..., 0.0000, 0.5057, 0.0479]])\n",
      "tensor(indices=tensor([[   0,    0,    0,  ..., 2999, 2999, 2999],\n",
      "                       [   0,    2,    3,  ..., 2996, 2998, 2999]]),\n",
      "       values=tensor([0.3868, 0.9923, 0.2019,  ..., 0.5462, 0.5057, 0.0479]),\n",
      "       size=(3000, 3000), nnz=7199303, layout=torch.sparse_coo)\n",
      "0.8089625835418701\n",
      "2.0562031269073486\n",
      "13.699702262878418\n",
      "0.5167815685272217\n"
     ]
    }
   ],
   "source": [
    "# 性能测试：二值化稀疏矩阵边概率\n",
    "import torch\n",
    "import time\n",
    "row, col = 3000, 3000\n",
    "matrix = torch.rand(row, col)\n",
    "\n",
    "# 将80%的元素设置为0\n",
    "mask = torch.rand(row, col) > 0.8\n",
    "matrix = torch.where(mask, torch.zeros(row, col), matrix)\n",
    "\n",
    "print(matrix)\n",
    "sparse = matrix.to_sparse()\n",
    "print(sparse)\n",
    "\n",
    "def fun0(matrix):\n",
    "    threshold = 0.5\n",
    "    mask = matrix >= threshold\n",
    "    matrix = mask.float()\n",
    "\n",
    "    return matrix\n",
    "\n",
    "def fun1(matrix):\n",
    "    threshold = 0.5\n",
    "    adj_new = torch.where(matrix < threshold, torch.zeros_like(matrix), torch.ones_like(matrix))\n",
    "    return adj_new\n",
    "\n",
    "def fun2(matrix):\n",
    "    adj_new = matrix.clone()\n",
    "    threshold = 0.5\n",
    "    adj_new[adj_new < threshold] = 0\n",
    "    adj_new[adj_new >= threshold] = 1\n",
    "    return adj_new\n",
    "\n",
    "def fun3(sparse):\n",
    "    threshold = 0.5\n",
    "    mask = sparse.values() >= threshold\n",
    "\n",
    "    sparse.values().copy_(mask)\n",
    "    return sparse\n",
    "\n",
    "\n",
    "t = time.time()\n",
    "for _ in range(100):\n",
    "    fun0(matrix)\n",
    "print(time.time() - t)\n",
    "\n",
    "t = time.time()\n",
    "for _ in range(100):\n",
    "    fun1(matrix)\n",
    "print(time.time() - t)\n",
    "\n",
    "\n",
    "t = time.time()\n",
    "for _ in range(100):\n",
    "    fun2(matrix)\n",
    "print(time.time() - t)\n",
    "\n",
    "\n",
    "t = time.time()\n",
    "for _ in range(100):\n",
    "    fun3(sparse)\n",
    "print(time.time() - t)\n"
   ]
  },
  {
   "cell_type": "code",
   "execution_count": 14,
   "metadata": {},
   "outputs": [
    {
     "name": "stdout",
     "output_type": "stream",
     "text": [
      "tensor([[2],\n",
      "        [5]])\n"
     ]
    }
   ],
   "source": [
    "# 根据行列索引取出二维矩阵中对应的元素\n",
    "import torch\n",
    "\n",
    "index_matrix = torch.tensor([[0, 1], [1, 3]])\n",
    "probability_matrix = torch.tensor([[1, 2, 3, 4], [2, 3, 4, 5]])\n",
    "\n",
    "# 从概率矩阵中取出指定的元素\n",
    "result = probability_matrix[index_matrix[:, 0], index_matrix[:, 1]]\n",
    "result = result.view(-1, 1)  # 将结果转换为列向量\n",
    "\n",
    "print(result)"
   ]
  },
  {
   "cell_type": "code",
   "execution_count": 17,
   "metadata": {},
   "outputs": [
    {
     "name": "stdout",
     "output_type": "stream",
     "text": [
      "Train set - positive samples: 6\n",
      "Train set - negative samples: 6\n",
      "\n",
      "Validation set - positive samples: 2\n",
      "Validation set - negative samples: 2\n",
      "\n",
      "Test set - pos samples: 2\n",
      "Test set - neg samples: 2\n",
      "\n",
      "Training indices and values: [18 10 15  5 13  9  0  8  2  6  1 12] [0 1 0 0 1 0 1 0 1 0 1 1]\n",
      "Validation indices and values: [ 4 17 19 14] [1 0 0 1]\n",
      "Test indices and values: [11  3  7 16] [1 1 0 0]\n"
     ]
    }
   ],
   "source": [
    "# 测试: 根据标签生成　训练集，验证集和测试集索引\n",
    "from utils import split_dataset\n",
    "import numpy as np\n",
    "\n",
    "labels = [1, 1, 1, 1, 1, 0, 0, 0, 0, 0, 1, 1, 1, 1, 1, 0, 0, 0, 0, 0]\n",
    "labels = np.array(labels)\n",
    "train_indices, val_indices, test_indices = split_dataset(labels, 0.6, 0.2, 0.2)\n",
    "print(\"Training indices and values:\", train_indices, labels[train_indices])\n",
    "print(\"Validation indices and values:\", val_indices, labels[val_indices])\n",
    "print(\"Test indices and values:\", test_indices, labels[test_indices])"
   ]
  },
  {
   "cell_type": "code",
   "execution_count": 21,
   "metadata": {},
   "outputs": [
    {
     "name": "stdout",
     "output_type": "stream",
     "text": [
      "tensor(indices=tensor([[0, 0, 1],\n",
      "                       [2, 0, 2]]),\n",
      "       values=tensor([5., 6., 8.]),\n",
      "       size=(3, 3), nnz=3, dtype=torch.float64, layout=torch.sparse_coo)\n"
     ]
    }
   ],
   "source": [
    "# 测试: 稀疏矩阵乘法\n",
    "import torch\n",
    "\n",
    "# 创建稀疏矩阵A\n",
    "A = torch.sparse_coo_tensor(\n",
    "    torch.tensor([[0, 1, 2], [1, 0, 2]], dtype=float),\n",
    "    torch.tensor([1, 2, 3], dtype=float),\n",
    "    size=(3, 3)\n",
    ")\n",
    "\n",
    "# 创建稀疏矩阵B\n",
    "B = torch.sparse_coo_tensor(\n",
    "    torch.tensor([[0, 1, 1], [2, 2, 0]], dtype=float),\n",
    "    torch.tensor([4, 5, 6], dtype=float),\n",
    "    size=(3, 3)\n",
    ")\n",
    "\n",
    "# 对稀疏矩阵进行乘法运算\n",
    "C = torch.sparse.mm(A, B)\n",
    "\n",
    "print(C)"
   ]
  },
  {
   "cell_type": "code",
   "execution_count": 22,
   "metadata": {},
   "outputs": [
    {
     "data": {
      "text/plain": [
       "(0.42857142857142855, 0.4, 0.6666666666666666, 0.5, tensor(0.6667))"
      ]
     },
     "execution_count": 22,
     "metadata": {},
     "output_type": "execute_result"
    }
   ],
   "source": [
    "# 测试　评估函数\n",
    "from utils import print_metrics\n",
    "\n",
    "class_pred = torch.tensor([1, 2, 3, 4, 5, 6, 7])\n",
    "class_true = torch.tensor([1, 3, 4, 5, 5, 3, 7])\n",
    "class_real = torch.tensor([0, 3, 3, 5, 5, 3, 6])\n",
    "\n",
    "# y_true = [1, 0, 1, 0, 0, 0, 1]\n",
    "# y_pred = [1, 1, 0, 1, 0, 1, 1]\n",
    "\n",
    "print_metrics(class_pred, class_true, class_real)"
   ]
  },
  {
   "cell_type": "code",
   "execution_count": 23,
   "metadata": {},
   "outputs": [
    {
     "name": "stdout",
     "output_type": "stream",
     "text": [
      "tensor([[0, 1, 0],\n",
      "        [1, 0, 0],\n",
      "        [1, 0, 1],\n",
      "        [0, 1, 1],\n",
      "        [0, 0, 0]])\n"
     ]
    }
   ],
   "source": [
    "# 由方法和方法的调用矩阵，方法和类的归属矩阵，得到方法和类的调用矩阵\n",
    "import torch\n",
    "\n",
    "# 定义方法和方法之间的调用关系矩阵A\n",
    "A = torch.tensor([[0, 1, 0, 0, 0],\n",
    "                  [0, 0, 1, 0, 0],\n",
    "                  [1, 0, 0, 1, 0],\n",
    "                  [0, 1, 0, 0, 1],\n",
    "                  [0, 0, 0, 0, 0]])\n",
    "\n",
    "# 定义方法和类之间的归属关系矩阵B\n",
    "B = torch.tensor([[1, 0, 0],\n",
    "                  [0, 1, 0],\n",
    "                  [1, 0, 0],\n",
    "                  [0, 0, 1],\n",
    "                  [0, 0, 1]])\n",
    "\n",
    "# 计算方法和类之间的邻接矩阵C\n",
    "C = torch.matmul(A, B)\n",
    "\n",
    "print(C)"
   ]
  }
 ],
 "metadata": {
  "kernelspec": {
   "display_name": "Python 3.6.13 ('cv')",
   "language": "python",
   "name": "python3"
  },
  "language_info": {
   "codemirror_mode": {
    "name": "ipython",
    "version": 3
   },
   "file_extension": ".py",
   "mimetype": "text/x-python",
   "name": "python",
   "nbconvert_exporter": "python",
   "pygments_lexer": "ipython3",
   "version": "3.6.13"
  },
  "orig_nbformat": 4,
  "vscode": {
   "interpreter": {
    "hash": "2b285f42941691a53e04804bf4d261eec7452852cd4c250e04a641697f6fba56"
   }
  }
 },
 "nbformat": 4,
 "nbformat_minor": 2
}
